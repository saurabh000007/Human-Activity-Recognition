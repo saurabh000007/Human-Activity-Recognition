{
  "nbformat": 4,
  "nbformat_minor": 0,
  "metadata": {
    "colab": {
      "name": "Human Activity Recognition.ipynb",
      "provenance": [],
      "collapsed_sections": [],
      "mount_file_id": "1rVlQ_UpG-wN3GOGBZIFkhV1Fmy0rByEI",
      "authorship_tag": "ABX9TyOUaDb2Hi3OLh/PbnFpijeO",
      "include_colab_link": true
    },
    "kernelspec": {
      "name": "python3",
      "display_name": "Python 3"
    },
    "language_info": {
      "name": "python"
    }
  },
  "cells": [
    {
      "cell_type": "markdown",
      "metadata": {
        "id": "view-in-github",
        "colab_type": "text"
      },
      "source": [
        "<a href=\"https://colab.research.google.com/github/saurabh000007/Human-Activity-Recognition/blob/main/Human_Activity_Recognition.ipynb\" target=\"_parent\"><img src=\"https://colab.research.google.com/assets/colab-badge.svg\" alt=\"Open In Colab\"/></a>"
      ]
    },
    {
      "cell_type": "code",
      "metadata": {
        "id": "PEr0nF6Sbq5f"
      },
      "source": [
        "# importing all necessary libraries\n",
        "import numpy as np\n",
        "import pandas as pd\n",
        "import matplotlib.pyplot as plt\n",
        "import matplotlib.patches as mpatches\n",
        "\n",
        "from sklearn.decomposition import PCA\n",
        "from sklearn.preprocessing import StandardScaler\n",
        "from sklearn.model_selection import train_test_split\n",
        "from sklearn import svm\n",
        "from sklearn.metrics import confusion_matrix"
      ],
      "execution_count": null,
      "outputs": []
    },
    {
      "cell_type": "code",
      "metadata": {
        "colab": {
          "base_uri": "https://localhost:8080/"
        },
        "id": "xlsNyfL9lJ65",
        "outputId": "09af3894-5531-46de-e2bf-634177931db3"
      },
      "source": [
        "from google.colab import drive\n",
        "drive.mount('/content/drive')"
      ],
      "execution_count": null,
      "outputs": [
        {
          "output_type": "stream",
          "name": "stdout",
          "text": [
            "Drive already mounted at /content/drive; to attempt to forcibly remount, call drive.mount(\"/content/drive\", force_remount=True).\n"
          ]
        }
      ]
    },
    {
      "cell_type": "code",
      "metadata": {
        "id": "wxSuJBTXqh8r"
      },
      "source": [
        "# retrieving data from test and train files\n",
        "file_X_train='/content/drive/MyDrive/Human Activity Recognition/X_train.txt'\n",
        "X_train=pd.read_csv(file_X_train,header=None,sep='\\n')\n",
        "file_y_train='/content/drive/MyDrive/Human Activity Recognition/y_train.txt'\n",
        "y_train=pd.read_csv(file_y_train,header=None,sep='\\n')\n",
        "file_X_test='/content/drive/MyDrive/Human Activity Recognition/X_test.txt'\n",
        "X_test=pd.read_csv(file_X_test,header=None,sep='\\n')\n",
        "file_y_test='/content/drive/MyDrive/Human Activity Recognition/y_test.txt'\n",
        "y_test=pd.read_csv(file_y_test,header=None,sep='\\n')"
      ],
      "execution_count": null,
      "outputs": []
    },
    {
      "cell_type": "code",
      "metadata": {
        "colab": {
          "base_uri": "https://localhost:8080/"
        },
        "id": "z6ae94torClH",
        "outputId": "80a8a40f-f77f-484b-e1a5-9e4b0575654d"
      },
      "source": [
        "# analyzing data\n",
        "print(X_train)"
      ],
      "execution_count": null,
      "outputs": [
        {
          "output_type": "stream",
          "name": "stdout",
          "text": [
            "                                                      0\n",
            "0       2.8858451e-001 -2.0294171e-002 -1.3290514e-0...\n",
            "1       2.7841883e-001 -1.6410568e-002 -1.2352019e-0...\n",
            "2       2.7965306e-001 -1.9467156e-002 -1.1346169e-0...\n",
            "3       2.7917394e-001 -2.6200646e-002 -1.2328257e-0...\n",
            "4       2.7662877e-001 -1.6569655e-002 -1.1536185e-0...\n",
            "...                                                 ...\n",
            "7347    2.9966534e-001 -5.7193414e-002 -1.8123302e-0...\n",
            "7348    2.7385271e-001 -7.7493259e-003 -1.4746837e-0...\n",
            "7349    2.7338737e-001 -1.7010616e-002 -4.5021828e-0...\n",
            "7350    2.8965416e-001 -1.8843044e-002 -1.5828059e-0...\n",
            "7351    3.5150347e-001 -1.2423118e-002 -2.0386717e-0...\n",
            "\n",
            "[7352 rows x 1 columns]\n"
          ]
        }
      ]
    },
    {
      "cell_type": "code",
      "metadata": {
        "id": "qTb1GvMkrI73"
      },
      "source": [
        "\n",
        "# function process_data to split the data through columns into float values\n",
        "def process_data(df):\n",
        "    data=[]\n",
        "    for i in range(df.shape[0]):\n",
        "        t=df.iloc[i]\n",
        "        t=t[0].split()\n",
        "        z=[ float(j) for j in t]\n",
        "        data.append(z)  \n",
        "    data=np.array(data)\n",
        "    return data"
      ],
      "execution_count": null,
      "outputs": []
    },
    {
      "cell_type": "code",
      "metadata": {
        "id": "PQSa-D2jrQw7"
      },
      "source": [
        "\n",
        "# processing datas\n",
        "X_train=process_data(X_train)\n",
        "X_test=process_data(X_test)\n",
        "y_train=np.array(y_train)\n",
        "y_test=np.array(y_test)\n",
        "y_train=np.ravel(y_train)\n",
        "y_test=np.ravel(y_test)"
      ],
      "execution_count": null,
      "outputs": []
    },
    {
      "cell_type": "code",
      "metadata": {
        "colab": {
          "base_uri": "https://localhost:8080/"
        },
        "id": "EqnRf9jPrT3P",
        "outputId": "3c7accbd-05b3-4d17-ab11-3487b1e913da"
      },
      "source": [
        "print(X_train)"
      ],
      "execution_count": null,
      "outputs": [
        {
          "output_type": "stream",
          "name": "stdout",
          "text": [
            "[[ 0.28858451 -0.02029417 -0.13290514 ... -0.84124676  0.17994061\n",
            "  -0.05862692]\n",
            " [ 0.27841883 -0.01641057 -0.12352019 ... -0.8447876   0.18028889\n",
            "  -0.05431672]\n",
            " [ 0.27965306 -0.01946716 -0.11346169 ... -0.84893347  0.18063731\n",
            "  -0.04911782]\n",
            " ...\n",
            " [ 0.27338737 -0.01701062 -0.04502183 ... -0.77913261  0.24914484\n",
            "   0.04081119]\n",
            " [ 0.28965416 -0.01884304 -0.15828059 ... -0.78518142  0.24643223\n",
            "   0.02533948]\n",
            " [ 0.35150347 -0.01242312 -0.20386717 ... -0.78326693  0.24680852\n",
            "   0.03669484]]\n"
          ]
        }
      ]
    },
    {
      "cell_type": "code",
      "metadata": {
        "colab": {
          "base_uri": "https://localhost:8080/"
        },
        "id": "-CJbN9LLrWTJ",
        "outputId": "0a98d62b-0bdb-454f-b873-8cc400390409"
      },
      "source": [
        "print(X_train.shape)"
      ],
      "execution_count": null,
      "outputs": [
        {
          "output_type": "stream",
          "name": "stdout",
          "text": [
            "(7352, 561)\n"
          ]
        }
      ]
    },
    {
      "cell_type": "code",
      "metadata": {
        "id": "hnEKwESCrZGW"
      },
      "source": [
        "# standardising datas..i.e mean=0 and variance=1\n",
        "ss=StandardScaler().fit(X_train)\n",
        "X_train=ss.transform(X_train)\n",
        "X_test=ss.transform(X_test)"
      ],
      "execution_count": null,
      "outputs": []
    },
    {
      "cell_type": "code",
      "metadata": {
        "id": "-D3q1yParebp"
      },
      "source": [
        "# making a copy of datas X_tr and X_te having no of components reduced to 2\n",
        "model1=PCA(n_components=2,whiten=True)\n",
        "X_tr=model1.fit_transform(X_train)\n",
        "X_te=model1.transform(X_test)"
      ],
      "execution_count": null,
      "outputs": []
    },
    {
      "cell_type": "code",
      "metadata": {
        "id": "Vzca9CoFrm8Y"
      },
      "source": [
        "\n",
        "# functions for visualizing X_tr and X_te\n",
        "def legend():\n",
        "    d={}\n",
        "    d[1]='cyan'\n",
        "    d[2]='red'\n",
        "    d[3]='yellow'\n",
        "    d[4]='blue'\n",
        "    d[5]='green'\n",
        "    d[6]='purple'\n",
        "    \n",
        "    k={}\n",
        "    file='/content/drive/MyDrive/Human Activity Recognition/activity_labels.txt'\n",
        "    a=pd.read_csv(file,header=None)\n",
        "    for i in range(a.shape[0]):\n",
        "        t=a.iloc[i]\n",
        "        t=t[0]\n",
        "        t=t.split()\n",
        "        x,y=t\n",
        "        x=int(x)\n",
        "        k[x]=y\n",
        "        \n",
        "    return d,k"
      ],
      "execution_count": null,
      "outputs": []
    },
    {
      "cell_type": "code",
      "metadata": {
        "id": "mISVfJCPrqE5"
      },
      "source": [
        "def visualize(X_train,y_train):\n",
        "    key,activity=legend()\n",
        "    \n",
        "    label_list=[]\n",
        "    for i in range(1,7):\n",
        "        x=mpatches.Patch(color=key[i], label=activity[i])\n",
        "        label_list.append(x)\n",
        "    \n",
        "    for i in range(X_train.shape[0]):\n",
        "        plt.scatter(X_train[i][1], X_train[i][0] , color=key[y_train[i]])\n",
        "        \n",
        "    plt.legend(handles=label_list)\n",
        "    plt.show()\n"
      ],
      "execution_count": null,
      "outputs": []
    },
    {
      "cell_type": "code",
      "metadata": {
        "colab": {
          "base_uri": "https://localhost:8080/",
          "height": 265
        },
        "id": "Dm_vF4KfrusI",
        "outputId": "a3deba5e-823d-4e17-be2c-7270eaf0e336"
      },
      "source": [
        "visualize(X_tr,y_train)"
      ],
      "execution_count": null,
      "outputs": [
        {
          "output_type": "display_data",
          "data": {
            "image/png": "[encoded data removed]",
            "text/plain": [
              "<Figure size 432x288 with 1 Axes>"
            ]
          },
          "metadata": {
            "needs_background": "light"
          }
        }
      ]
    },
    {
      "cell_type": "code",
      "metadata": {
        "colab": {
          "base_uri": "https://localhost:8080/",
          "height": 295
        },
        "id": "F4Z8hUd5ryLp",
        "outputId": "8ffa4e15-144f-4edc-82ad-9c199b45863c"
      },
      "source": [
        "# now plotting no of components(int the dataset) vs variance to determine no of components for max accuracy\n",
        "pca = PCA().fit(X_train)\n",
        "plt.figure()\n",
        "plt.plot(np.cumsum(pca.explained_variance_ratio_))\n",
        "plt.xlabel('Number of Components')\n",
        "plt.ylabel('Variance (%)')\n",
        "plt.title('Human Activity Recognition Data')\n",
        "plt.show()"
      ],
      "execution_count": null,
      "outputs": [
        {
          "output_type": "display_data",
          "data": {
            "image/png": "[encoded data removed]",
            "text/plain": [
              "<Figure size 432x288 with 1 Axes>"
            ]
          },
          "metadata": {
            "needs_background": "light"
          }
        }
      ]
    },
    {
      "cell_type": "code",
      "metadata": {
        "id": "Ha1ZNrc_uNi7"
      },
      "source": [
        "# reducing the no of components to around 220 for max accuracy with less execution time\n",
        "model=PCA(n_components=220,whiten=True)\n",
        "X_train=model.fit_transform(X_train)\n",
        "X_test=model.transform(X_test)"
      ],
      "execution_count": null,
      "outputs": []
    },
    {
      "cell_type": "code",
      "metadata": {
        "colab": {
          "base_uri": "https://localhost:8080/"
        },
        "id": "mCmYit9UucgP",
        "outputId": "8bbfd2c8-8c3e-4c3a-9cb9-3e3be5d51821"
      },
      "source": [
        "\n",
        "print(X_train.shape)"
      ],
      "execution_count": null,
      "outputs": [
        {
          "output_type": "stream",
          "name": "stdout",
          "text": [
            "(7352, 220)\n"
          ]
        }
      ]
    },
    {
      "cell_type": "code",
      "metadata": {
        "id": "T4Absezzug89"
      },
      "source": [
        "# splitting the training data to train and dev sets for lower execution time\n",
        "X_train,X_dev,y_train,y_dev=train_test_split(X_train,y_train,test_size=0.3,random_state=0)"
      ],
      "execution_count": null,
      "outputs": []
    },
    {
      "cell_type": "code",
      "metadata": {
        "colab": {
          "base_uri": "https://localhost:8080/"
        },
        "id": "c_OdAykVuk-z",
        "outputId": "7d850449-a193-4d1a-c3be-c1a683777add"
      },
      "source": [
        "\n",
        "# training model on linear kernel svm and decision_function_shape=one vs one\n",
        "model = svm.SVC(decision_function_shape='ovo',kernel='linear')\n",
        "model.fit(X_train,y_train)"
      ],
      "execution_count": null,
      "outputs": [
        {
          "output_type": "execute_result",
          "data": {
            "text/plain": [
              "SVC(C=1.0, break_ties=False, cache_size=200, class_weight=None, coef0=0.0,\n",
              "    decision_function_shape='ovo', degree=3, gamma='scale', kernel='linear',\n",
              "    max_iter=-1, probability=False, random_state=None, shrinking=True,\n",
              "    tol=0.001, verbose=False)"
            ]
          },
          "metadata": {},
          "execution_count": 28
        }
      ]
    },
    {
      "cell_type": "code",
      "metadata": {
        "colab": {
          "base_uri": "https://localhost:8080/"
        },
        "id": "7Y1wMYAdunRa",
        "outputId": "abe3faff-9946-4991-9796-b3cf5a1d6559"
      },
      "source": [
        "# statistical analysis\n",
        "e_train=model.score(X_train,y_train)\n",
        "e_dev=model.score(X_dev,y_dev)\n",
        "e_test=model.score(X_test,y_test)\n",
        "print('Training accuracy=',e_train)\n",
        "print('Development accuracy=',e_dev)\n",
        "print('Testing accuracy=',e_test)"
      ],
      "execution_count": null,
      "outputs": [
        {
          "output_type": "stream",
          "name": "stdout",
          "text": [
            "Training accuracy= 0.9959191605130199\n",
            "Development accuracy= 0.9809610154125114\n",
            "Testing accuracy= 0.9572446555819477\n"
          ]
        }
      ]
    },
    {
      "cell_type": "code",
      "metadata": {
        "colab": {
          "base_uri": "https://localhost:8080/"
        },
        "id": "f6_vZiJxuppW",
        "outputId": "ef24bcac-803a-4a26-a99e-607464702077"
      },
      "source": [
        "print('confusion matrix for development set')\n",
        "print(confusion_matrix(y_dev,model.predict(X_dev)))"
      ],
      "execution_count": null,
      "outputs": [
        {
          "output_type": "stream",
          "name": "stdout",
          "text": [
            "confusion matrix for development set\n",
            "[[361   0   0   0   0   0]\n",
            " [  0 315   0   0   0   0]\n",
            " [  1   0 279   0   0   0]\n",
            " [  0   0   0 384  22   0]\n",
            " [  0   0   0  18 391   0]\n",
            " [  0   0   0   1   0 434]]\n"
          ]
        }
      ]
    },
    {
      "cell_type": "code",
      "metadata": {
        "colab": {
          "base_uri": "https://localhost:8080/"
        },
        "id": "reOuRHHCuuhy",
        "outputId": "a7e28102-b0c8-4d8a-c045-83173dfa7f11"
      },
      "source": [
        "print('confusion matrix for test set')\n",
        "print(confusion_matrix(y_test,model.predict(X_test)))"
      ],
      "execution_count": null,
      "outputs": [
        {
          "output_type": "stream",
          "name": "stdout",
          "text": [
            "confusion matrix for test set\n",
            "[[493   3   0   0   0   0]\n",
            " [ 24 447   0   0   0   0]\n",
            " [ 11   5 404   0   0   0]\n",
            " [  0   2   0 425  64   0]\n",
            " [  0   0   0  17 515   0]\n",
            " [  0   0   0   0   0 537]]\n"
          ]
        }
      ]
    },
    {
      "cell_type": "code",
      "metadata": {
        "id": "1Ig2w8m2uzcq"
      },
      "source": [
        ""
      ],
      "execution_count": null,
      "outputs": []
    }
  ]
}